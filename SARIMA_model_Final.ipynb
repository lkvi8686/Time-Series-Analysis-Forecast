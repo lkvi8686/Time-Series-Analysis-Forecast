{
 "cells": [
  {
   "cell_type": "code",
   "execution_count": 1,
   "metadata": {},
   "outputs": [],
   "source": [
    "from statsmodels.tsa.statespace import sarimax"
   ]
  },
  {
   "cell_type": "code",
   "execution_count": 2,
   "metadata": {},
   "outputs": [
    {
     "name": "stderr",
     "output_type": "stream",
     "text": [
      "<ipython-input-2-49218b27e8a9>:2: FutureWarning: The pandas.datetime class is deprecated and will be removed from pandas in a future version. Import from datetime module instead.\n",
      "  from pandas import datetime\n"
     ]
    }
   ],
   "source": [
    "import pandas as pd\n",
    "from pandas import datetime\n",
    "from matplotlib import pyplot\n",
    "# from pandas.tools.plotting import autocorrelation_plot\n"
   ]
  },
  {
   "cell_type": "code",
   "execution_count": 3,
   "metadata": {},
   "outputs": [
    {
     "data": {
      "text/html": [
       "<div>\n",
       "<style scoped>\n",
       "    .dataframe tbody tr th:only-of-type {\n",
       "        vertical-align: middle;\n",
       "    }\n",
       "\n",
       "    .dataframe tbody tr th {\n",
       "        vertical-align: top;\n",
       "    }\n",
       "\n",
       "    .dataframe thead th {\n",
       "        text-align: right;\n",
       "    }\n",
       "</style>\n",
       "<table border=\"1\" class=\"dataframe\">\n",
       "  <thead>\n",
       "    <tr style=\"text-align: right;\">\n",
       "      <th></th>\n",
       "      <th>Year</th>\n",
       "      <th>MatureAreaHabyMonthly</th>\n",
       "      <th>FFBProductionYieldperHectareTonnesHectare</th>\n",
       "      <th>CPOProductionTONNES</th>\n",
       "      <th>CrudePalmOilExportCPO</th>\n",
       "      <th>ProcessedpalmoilPPO</th>\n",
       "      <th>PALMKERNELCAKE</th>\n",
       "      <th>CPOExportVolumeoftotalpalmoils</th>\n",
       "      <th>CPOexportofmalaysiatoindia</th>\n",
       "      <th>Oil_exportsOLEOCHEMICALSFINISHEDPRODUCTSBIODIESELOTHERS</th>\n",
       "      <th>Precipitation</th>\n",
       "      <th>Rm_to_USD</th>\n",
       "      <th>CLOSING STOCK OF CPO (Ton)</th>\n",
       "    </tr>\n",
       "  </thead>\n",
       "  <tbody>\n",
       "    <tr>\n",
       "      <th>0</th>\n",
       "      <td>2014-Jan</td>\n",
       "      <td>4689321.000</td>\n",
       "      <td>6987088.000</td>\n",
       "      <td>1508980.0</td>\n",
       "      <td>269718.0</td>\n",
       "      <td>1098245.0</td>\n",
       "      <td>274059.0</td>\n",
       "      <td>13</td>\n",
       "      <td>181921</td>\n",
       "      <td>343902</td>\n",
       "      <td>118</td>\n",
       "      <td>0.30</td>\n",
       "      <td>1071574</td>\n",
       "    </tr>\n",
       "    <tr>\n",
       "      <th>1</th>\n",
       "      <td>2014-Feb</td>\n",
       "      <td>4703263.718</td>\n",
       "      <td>5690949.000</td>\n",
       "      <td>1275812.0</td>\n",
       "      <td>240776.0</td>\n",
       "      <td>1110665.0</td>\n",
       "      <td>267980.0</td>\n",
       "      <td>12</td>\n",
       "      <td>185055</td>\n",
       "      <td>279680</td>\n",
       "      <td>10</td>\n",
       "      <td>0.30</td>\n",
       "      <td>923011</td>\n",
       "    </tr>\n",
       "    <tr>\n",
       "      <th>2</th>\n",
       "      <td>2014-Mar</td>\n",
       "      <td>4717247.892</td>\n",
       "      <td>6556975.000</td>\n",
       "      <td>1497142.0</td>\n",
       "      <td>258443.0</td>\n",
       "      <td>987323.0</td>\n",
       "      <td>187916.0</td>\n",
       "      <td>14</td>\n",
       "      <td>131120</td>\n",
       "      <td>313635</td>\n",
       "      <td>63</td>\n",
       "      <td>0.30</td>\n",
       "      <td>866087</td>\n",
       "    </tr>\n",
       "    <tr>\n",
       "      <th>3</th>\n",
       "      <td>2014-Apr</td>\n",
       "      <td>4731273.646</td>\n",
       "      <td>6860347.000</td>\n",
       "      <td>1555777.0</td>\n",
       "      <td>219250.0</td>\n",
       "      <td>1049397.0</td>\n",
       "      <td>139183.0</td>\n",
       "      <td>12</td>\n",
       "      <td>161001</td>\n",
       "      <td>322463</td>\n",
       "      <td>106</td>\n",
       "      <td>0.31</td>\n",
       "      <td>1003714</td>\n",
       "    </tr>\n",
       "    <tr>\n",
       "      <th>4</th>\n",
       "      <td>2014-May</td>\n",
       "      <td>4745341.101</td>\n",
       "      <td>7260372.000</td>\n",
       "      <td>1656957.0</td>\n",
       "      <td>400991.0</td>\n",
       "      <td>1015966.0</td>\n",
       "      <td>180619.0</td>\n",
       "      <td>20</td>\n",
       "      <td>268145</td>\n",
       "      <td>306179</td>\n",
       "      <td>180</td>\n",
       "      <td>0.31</td>\n",
       "      <td>979793</td>\n",
       "    </tr>\n",
       "    <tr>\n",
       "      <th>...</th>\n",
       "      <td>...</td>\n",
       "      <td>...</td>\n",
       "      <td>...</td>\n",
       "      <td>...</td>\n",
       "      <td>...</td>\n",
       "      <td>...</td>\n",
       "      <td>...</td>\n",
       "      <td>...</td>\n",
       "      <td>...</td>\n",
       "      <td>...</td>\n",
       "      <td>...</td>\n",
       "      <td>...</td>\n",
       "      <td>...</td>\n",
       "    </tr>\n",
       "    <tr>\n",
       "      <th>80</th>\n",
       "      <td>2020-SEP</td>\n",
       "      <td>5279413.392</td>\n",
       "      <td>8692749.465</td>\n",
       "      <td>1869339.0</td>\n",
       "      <td>536860.0</td>\n",
       "      <td>1075309.0</td>\n",
       "      <td>134714.0</td>\n",
       "      <td>24</td>\n",
       "      <td>374553</td>\n",
       "      <td>465498</td>\n",
       "      <td>242</td>\n",
       "      <td>0.24</td>\n",
       "      <td>931344</td>\n",
       "    </tr>\n",
       "    <tr>\n",
       "      <th>81</th>\n",
       "      <td>2020-Oct</td>\n",
       "      <td>5285402.651</td>\n",
       "      <td>7901970.846</td>\n",
       "      <td>1724420.0</td>\n",
       "      <td>556481.0</td>\n",
       "      <td>1117516.0</td>\n",
       "      <td>140767.0</td>\n",
       "      <td>24</td>\n",
       "      <td>423763</td>\n",
       "      <td>472641</td>\n",
       "      <td>174</td>\n",
       "      <td>0.24</td>\n",
       "      <td>737643</td>\n",
       "    </tr>\n",
       "    <tr>\n",
       "      <th>82</th>\n",
       "      <td>2020-Nov</td>\n",
       "      <td>5291398.704</td>\n",
       "      <td>6953269.149</td>\n",
       "      <td>1491551.0</td>\n",
       "      <td>376781.0</td>\n",
       "      <td>926537.0</td>\n",
       "      <td>217753.0</td>\n",
       "      <td>19</td>\n",
       "      <td>203972</td>\n",
       "      <td>439970</td>\n",
       "      <td>369</td>\n",
       "      <td>0.24</td>\n",
       "      <td>723010</td>\n",
       "    </tr>\n",
       "    <tr>\n",
       "      <th>83</th>\n",
       "      <td>2020-Dec</td>\n",
       "      <td>5297401.560</td>\n",
       "      <td>6303907.857</td>\n",
       "      <td>1333637.0</td>\n",
       "      <td>726573.0</td>\n",
       "      <td>898119.0</td>\n",
       "      <td>168208.0</td>\n",
       "      <td>32</td>\n",
       "      <td>548439</td>\n",
       "      <td>501375</td>\n",
       "      <td>88</td>\n",
       "      <td>0.25</td>\n",
       "      <td>583811</td>\n",
       "    </tr>\n",
       "    <tr>\n",
       "      <th>84</th>\n",
       "      <td>2020-Jan</td>\n",
       "      <td>5303411.226</td>\n",
       "      <td>5515547.675</td>\n",
       "      <td>1171534.0</td>\n",
       "      <td>192895.0</td>\n",
       "      <td>754500.0</td>\n",
       "      <td>166881.0</td>\n",
       "      <td>13</td>\n",
       "      <td>143231</td>\n",
       "      <td>4,24,381</td>\n",
       "      <td>181</td>\n",
       "      <td>0.25</td>\n",
       "      <td>640781</td>\n",
       "    </tr>\n",
       "  </tbody>\n",
       "</table>\n",
       "<p>85 rows × 13 columns</p>\n",
       "</div>"
      ],
      "text/plain": [
       "        Year  MatureAreaHabyMonthly  \\\n",
       "0   2014-Jan            4689321.000   \n",
       "1   2014-Feb            4703263.718   \n",
       "2   2014-Mar            4717247.892   \n",
       "3   2014-Apr            4731273.646   \n",
       "4   2014-May            4745341.101   \n",
       "..       ...                    ...   \n",
       "80  2020-SEP            5279413.392   \n",
       "81  2020-Oct            5285402.651   \n",
       "82  2020-Nov            5291398.704   \n",
       "83  2020-Dec            5297401.560   \n",
       "84  2020-Jan            5303411.226   \n",
       "\n",
       "    FFBProductionYieldperHectareTonnesHectare  CPOProductionTONNES  \\\n",
       "0                                 6987088.000            1508980.0   \n",
       "1                                 5690949.000            1275812.0   \n",
       "2                                 6556975.000            1497142.0   \n",
       "3                                 6860347.000            1555777.0   \n",
       "4                                 7260372.000            1656957.0   \n",
       "..                                        ...                  ...   \n",
       "80                                8692749.465            1869339.0   \n",
       "81                                7901970.846            1724420.0   \n",
       "82                                6953269.149            1491551.0   \n",
       "83                                6303907.857            1333637.0   \n",
       "84                                5515547.675            1171534.0   \n",
       "\n",
       "    CrudePalmOilExportCPO  ProcessedpalmoilPPO  PALMKERNELCAKE  \\\n",
       "0                269718.0            1098245.0        274059.0   \n",
       "1                240776.0            1110665.0        267980.0   \n",
       "2                258443.0             987323.0        187916.0   \n",
       "3                219250.0            1049397.0        139183.0   \n",
       "4                400991.0            1015966.0        180619.0   \n",
       "..                    ...                  ...             ...   \n",
       "80               536860.0            1075309.0        134714.0   \n",
       "81               556481.0            1117516.0        140767.0   \n",
       "82               376781.0             926537.0        217753.0   \n",
       "83               726573.0             898119.0        168208.0   \n",
       "84               192895.0             754500.0        166881.0   \n",
       "\n",
       "    CPOExportVolumeoftotalpalmoils  CPOexportofmalaysiatoindia  \\\n",
       "0                               13                      181921   \n",
       "1                               12                      185055   \n",
       "2                               14                      131120   \n",
       "3                               12                      161001   \n",
       "4                               20                      268145   \n",
       "..                             ...                         ...   \n",
       "80                              24                      374553   \n",
       "81                              24                      423763   \n",
       "82                              19                      203972   \n",
       "83                              32                      548439   \n",
       "84                              13                      143231   \n",
       "\n",
       "   Oil_exportsOLEOCHEMICALSFINISHEDPRODUCTSBIODIESELOTHERS  Precipitation  \\\n",
       "0                                              343902                 118   \n",
       "1                                              279680                  10   \n",
       "2                                              313635                  63   \n",
       "3                                              322463                 106   \n",
       "4                                              306179                 180   \n",
       "..                                                ...                 ...   \n",
       "80                                             465498                 242   \n",
       "81                                             472641                 174   \n",
       "82                                             439970                 369   \n",
       "83                                             501375                  88   \n",
       "84                                           4,24,381                 181   \n",
       "\n",
       "    Rm_to_USD  CLOSING STOCK OF CPO (Ton)  \n",
       "0        0.30                     1071574  \n",
       "1        0.30                      923011  \n",
       "2        0.30                      866087  \n",
       "3        0.31                     1003714  \n",
       "4        0.31                      979793  \n",
       "..        ...                         ...  \n",
       "80       0.24                      931344  \n",
       "81       0.24                      737643  \n",
       "82       0.24                      723010  \n",
       "83       0.25                      583811  \n",
       "84       0.25                      640781  \n",
       "\n",
       "[85 rows x 13 columns]"
      ]
     },
     "execution_count": 3,
     "metadata": {},
     "output_type": "execute_result"
    }
   ],
   "source": [
    "import os\n",
    "os.chdir(r'C:\\Users\\DELL\\Desktop\\working files\\ml codes')\n",
    "series = pd.read_csv('Boerno_RawData.csv')\n",
    "series"
   ]
  },
  {
   "cell_type": "code",
   "execution_count": 4,
   "metadata": {},
   "outputs": [
    {
     "data": {
      "text/plain": [
       "Index(['Year', 'MatureAreaHabyMonthly',\n",
       "       'FFBProductionYieldperHectareTonnesHectare', 'CPOProductionTONNES',\n",
       "       'CrudePalmOilExportCPO', 'ProcessedpalmoilPPO', 'PALMKERNELCAKE',\n",
       "       'CPOExportVolumeoftotalpalmoils', 'CPOexportofmalaysiatoindia',\n",
       "       'Oil_exportsOLEOCHEMICALSFINISHEDPRODUCTSBIODIESELOTHERS',\n",
       "       'Precipitation', 'Rm_to_USD', 'CLOSING STOCK OF CPO (Ton)'],\n",
       "      dtype='object')"
      ]
     },
     "execution_count": 4,
     "metadata": {},
     "output_type": "execute_result"
    }
   ],
   "source": [
    "# series = pd.read_excel('CPO_export_volumes.xlsx')\n",
    "series.columns"
   ]
  },
  {
   "cell_type": "code",
   "execution_count": 5,
   "metadata": {},
   "outputs": [
    {
     "data": {
      "text/plain": [
       "0     1508980.0\n",
       "1     1275812.0\n",
       "2     1497142.0\n",
       "3     1555777.0\n",
       "4     1656957.0\n",
       "        ...    \n",
       "80    1869339.0\n",
       "81    1724420.0\n",
       "82    1491551.0\n",
       "83    1333637.0\n",
       "84    1171534.0\n",
       "Name: CPOProductionTONNES, Length: 85, dtype: float64"
      ]
     },
     "execution_count": 5,
     "metadata": {},
     "output_type": "execute_result"
    }
   ],
   "source": [
    "series=series['CPOProductionTONNES']\n",
    "series"
   ]
  },
  {
   "cell_type": "code",
   "execution_count": 6,
   "metadata": {},
   "outputs": [],
   "source": [
    "import itertools\n",
    "p=d=q=range(0,2)\n",
    "pdq = list(itertools.product(p,d,q))\n",
    "seasonal_pdq = [(x[0], x[1], x[2], 12) for x in list(itertools.product(p, d, q))]"
   ]
  },
  {
   "cell_type": "code",
   "execution_count": 7,
   "metadata": {},
   "outputs": [],
   "source": [
    "import statsmodels.tsa.statespace.sarimax \n",
    "SAR=statsmodels.tsa.statespace.sarimax "
   ]
  },
  {
   "cell_type": "code",
   "execution_count": 8,
   "metadata": {},
   "outputs": [],
   "source": [
    "import numpy as np\n",
    "\n",
    "def mean_absolute_percentage_error(y_true, y_pred): \n",
    "    return np.mean(np.abs((y_true - y_pred) / y_true))*100"
   ]
  },
  {
   "cell_type": "code",
   "execution_count": 9,
   "metadata": {},
   "outputs": [
    {
     "data": {
      "text/plain": [
       "(0, 1, 0)"
      ]
     },
     "execution_count": 9,
     "metadata": {},
     "output_type": "execute_result"
    }
   ],
   "source": [
    "pdq[2]"
   ]
  },
  {
   "cell_type": "code",
   "execution_count": 10,
   "metadata": {},
   "outputs": [
    {
     "data": {
      "text/plain": [
       "(0, 1, 0, 12)"
      ]
     },
     "execution_count": 10,
     "metadata": {},
     "output_type": "execute_result"
    }
   ],
   "source": [
    "seasonal_pdq[2]"
   ]
  },
  {
   "cell_type": "code",
   "execution_count": 11,
   "metadata": {},
   "outputs": [],
   "source": [
    "# ! pip install pandas"
   ]
  },
  {
   "cell_type": "code",
   "execution_count": 16,
   "metadata": {},
   "outputs": [],
   "source": [
    "import numpy as np\n",
    "import pandas as pd\n",
    "import warnings\n",
    "param1=[]\n",
    "param_seasonal1=[]\n",
    "MAPE=[]\n",
    "df=pd.DataFrame()\n",
    "warnings.filterwarnings('ignore')\n",
    "for param in pdq:\n",
    "    for param_seasonal in seasonal_pdq:\n",
    "        try:\n",
    "            mod = SAR.SARIMAX(series,order=param,seasonal_order=param_seasonal,enforce_stationarity=False,enforce_invertibility=False)\n",
    "            results = mod.fit()\n",
    "            y_true=series\n",
    "            y_pred=results.fittedvalues\n",
    "#             MAPE=mean_absolute_percentage_error(y_true, y_pred)\n",
    "            param1.append(param)\n",
    "            param_seasonal1.append(param_seasonal)\n",
    "            MAPE.append(mean_absolute_percentage_error(y_true, y_pred))\n",
    "            model_metrics = {'pdq':param1,'seasonal_pdq':param_seasonal1,\n",
    "                     'MAPE': MAPE}\n",
    "            model_metrics=pd.DataFrame(model_metrics)\n",
    "            df.append(model_metrics)\n",
    "#             print('ARIMA{}x{}12 - MAPE:{}'.format(param, param_seasonal, mean_absolute_percentage_error(y_true, y_pred)))\n",
    "        except:\n",
    "            continue"
   ]
  },
  {
   "cell_type": "code",
   "execution_count": 18,
   "metadata": {},
   "outputs": [],
   "source": [
    "model_metrics\n",
    "# df\n",
    "model_metrics.to_csv(r'C:\\Users\\Sharath Chandra\\OneDrive - OPTIMAL STRATEGIX GROUP INC\\Desktop\\Time series Code\\modelpdq.csv')\n",
    "# df"
   ]
  },
  {
   "cell_type": "code",
   "execution_count": 20,
   "metadata": {},
   "outputs": [],
   "source": [
    "# MAPE"
   ]
  },
  {
   "cell_type": "code",
   "execution_count": null,
   "metadata": {},
   "outputs": [],
   "source": []
  },
  {
   "cell_type": "code",
   "execution_count": null,
   "metadata": {},
   "outputs": [],
   "source": []
  },
  {
   "cell_type": "code",
   "execution_count": null,
   "metadata": {},
   "outputs": [],
   "source": []
  },
  {
   "cell_type": "code",
   "execution_count": null,
   "metadata": {},
   "outputs": [],
   "source": []
  },
  {
   "cell_type": "code",
   "execution_count": null,
   "metadata": {},
   "outputs": [],
   "source": []
  },
  {
   "cell_type": "code",
   "execution_count": null,
   "metadata": {},
   "outputs": [],
   "source": []
  },
  {
   "cell_type": "code",
   "execution_count": null,
   "metadata": {},
   "outputs": [],
   "source": []
  },
  {
   "cell_type": "code",
   "execution_count": null,
   "metadata": {},
   "outputs": [],
   "source": []
  },
  {
   "cell_type": "code",
   "execution_count": null,
   "metadata": {},
   "outputs": [],
   "source": []
  },
  {
   "cell_type": "code",
   "execution_count": null,
   "metadata": {},
   "outputs": [],
   "source": []
  },
  {
   "cell_type": "code",
   "execution_count": null,
   "metadata": {},
   "outputs": [],
   "source": []
  },
  {
   "cell_type": "code",
   "execution_count": null,
   "metadata": {},
   "outputs": [],
   "source": []
  },
  {
   "cell_type": "code",
   "execution_count": null,
   "metadata": {},
   "outputs": [],
   "source": []
  },
  {
   "cell_type": "code",
   "execution_count": null,
   "metadata": {},
   "outputs": [],
   "source": []
  },
  {
   "cell_type": "code",
   "execution_count": null,
   "metadata": {},
   "outputs": [],
   "source": [
    "import numpy as np\n",
    "import pandas as pd\n",
    "import warnings\n",
    "param1=[]\n",
    "param_seasonal1=[]\n",
    "MAPE=[]\n",
    "cols=['param1','param_seasonal1','MAPE']\n",
    "df=pd.DataFrame()\n",
    "warnings.filterwarnings('ignore')\n",
    "for param in pdq:\n",
    "    for param_seasonal in seasonal_pdq:\n",
    "#         try:\n",
    "            mod = SAR.SARIMAX(series,order=param,seasonal_order=param_seasonal,enforce_stationarity=False,enforce_invertibility=False)\n",
    "            results = mod.fit()\n",
    "            y_true=series\n",
    "            y_pred=results.fittedvalues\n",
    "            print('ARIMA{}x{}12 - MAPE:{}'.format(param, param_seasonal, mean_absolute_percentage_error(y_true, y_pred)))\n",
    "            param1.append(param)\n",
    "            param_seasonal1.append(param_seasonal1)\n",
    "            MAPE.append(mean_absolute_percentage_error(y_true, y_pred))\n",
    "            df.append({'param1':param1,param_seasonal1:'param_seasonal1','MAPE':MAPE})\n",
    "#             for i in list(range(param)):\n",
    "#                 param.append(i)\n",
    "#             len(param)\n",
    "#         except:\n",
    "            continue"
   ]
  },
  {
   "cell_type": "code",
   "execution_count": null,
   "metadata": {},
   "outputs": [],
   "source": [
    "df"
   ]
  },
  {
   "cell_type": "code",
   "execution_count": null,
   "metadata": {},
   "outputs": [],
   "source": []
  },
  {
   "cell_type": "code",
   "execution_count": null,
   "metadata": {},
   "outputs": [],
   "source": []
  },
  {
   "cell_type": "code",
   "execution_count": null,
   "metadata": {},
   "outputs": [],
   "source": []
  },
  {
   "cell_type": "code",
   "execution_count": null,
   "metadata": {},
   "outputs": [],
   "source": []
  },
  {
   "cell_type": "code",
   "execution_count": null,
   "metadata": {},
   "outputs": [],
   "source": []
  },
  {
   "cell_type": "code",
   "execution_count": null,
   "metadata": {},
   "outputs": [],
   "source": []
  },
  {
   "cell_type": "code",
   "execution_count": null,
   "metadata": {},
   "outputs": [],
   "source": []
  },
  {
   "cell_type": "code",
   "execution_count": null,
   "metadata": {},
   "outputs": [],
   "source": []
  },
  {
   "cell_type": "code",
   "execution_count": null,
   "metadata": {},
   "outputs": [],
   "source": []
  },
  {
   "cell_type": "code",
   "execution_count": null,
   "metadata": {},
   "outputs": [],
   "source": []
  },
  {
   "cell_type": "code",
   "execution_count": null,
   "metadata": {},
   "outputs": [],
   "source": []
  },
  {
   "cell_type": "code",
   "execution_count": null,
   "metadata": {},
   "outputs": [],
   "source": []
  },
  {
   "cell_type": "code",
   "execution_count": null,
   "metadata": {},
   "outputs": [],
   "source": []
  },
  {
   "cell_type": "code",
   "execution_count": null,
   "metadata": {},
   "outputs": [],
   "source": []
  },
  {
   "cell_type": "code",
   "execution_count": null,
   "metadata": {},
   "outputs": [],
   "source": []
  },
  {
   "cell_type": "code",
   "execution_count": null,
   "metadata": {},
   "outputs": [],
   "source": []
  },
  {
   "cell_type": "code",
   "execution_count": null,
   "metadata": {},
   "outputs": [],
   "source": [
    "from pandas import DataFrame"
   ]
  },
  {
   "cell_type": "code",
   "execution_count": null,
   "metadata": {},
   "outputs": [],
   "source": [
    "MAPE"
   ]
  },
  {
   "cell_type": "code",
   "execution_count": null,
   "metadata": {},
   "outputs": [],
   "source": [
    "df"
   ]
  },
  {
   "cell_type": "code",
   "execution_count": null,
   "metadata": {},
   "outputs": [],
   "source": []
  },
  {
   "cell_type": "code",
   "execution_count": null,
   "metadata": {},
   "outputs": [],
   "source": [
    "mod = SAR.SARIMAX(series,order=(1,1,1),seasonal_order=(1,1,1,12),enforce_stationarity=False,enforce_invertibility=False,trend='ct',\n",
    "                  measurement_error=True)"
   ]
  },
  {
   "cell_type": "code",
   "execution_count": null,
   "metadata": {},
   "outputs": [],
   "source": [
    "model=mod.fit(disp=0)\n"
   ]
  },
  {
   "cell_type": "code",
   "execution_count": null,
   "metadata": {},
   "outputs": [],
   "source": [
    "model.forecast(steps=12)"
   ]
  },
  {
   "cell_type": "code",
   "execution_count": null,
   "metadata": {},
   "outputs": [],
   "source": [
    "y_true=series"
   ]
  },
  {
   "cell_type": "code",
   "execution_count": null,
   "metadata": {},
   "outputs": [],
   "source": [
    "# pred=model.fittedvalues\n",
    "# Pred=y_Pred\n",
    "# type(y_Pred)\n",
    "def mean_absolute_percentage_error(y_true, y_pred): \n",
    "    return np.mean(np.abs((y_true - y_pred) / y_true))*100"
   ]
  },
  {
   "cell_type": "code",
   "execution_count": null,
   "metadata": {},
   "outputs": [],
   "source": [
    "# import numpy as np\n",
    "# mean_absolute_percentage_error(y_true,pred)"
   ]
  },
  {
   "cell_type": "code",
   "execution_count": null,
   "metadata": {},
   "outputs": [],
   "source": []
  },
  {
   "cell_type": "code",
   "execution_count": null,
   "metadata": {},
   "outputs": [],
   "source": [
    "param"
   ]
  },
  {
   "cell_type": "code",
   "execution_count": null,
   "metadata": {},
   "outputs": [],
   "source": []
  }
 ],
 "metadata": {
  "kernelspec": {
   "display_name": "Python 3",
   "language": "python",
   "name": "python3"
  },
  "language_info": {
   "codemirror_mode": {
    "name": "ipython",
    "version": 3
   },
   "file_extension": ".py",
   "mimetype": "text/x-python",
   "name": "python",
   "nbconvert_exporter": "python",
   "pygments_lexer": "ipython3",
   "version": "3.8.8"
  }
 },
 "nbformat": 4,
 "nbformat_minor": 2
}
